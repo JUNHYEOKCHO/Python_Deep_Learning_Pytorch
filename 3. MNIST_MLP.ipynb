{
 "cells": [
  {
   "cell_type": "code",
   "execution_count": 1,
   "metadata": {},
   "outputs": [],
   "source": [
    "# Module Import\n",
    "import numpy as np\n",
    "import matplotlib.pyplot as plt\n",
    "import torch\n",
    "import torch.nn as nn\n",
    "import torch.nn.functional as F\n",
    "from torchvision import transforms, datasets"
   ]
  },
  {
   "cell_type": "code",
   "execution_count": 3,
   "metadata": {},
   "outputs": [
    {
     "name": "stdout",
     "output_type": "stream",
     "text": [
      "Using PyTorch version: 1.7.0  Device: cuda\n"
     ]
    }
   ],
   "source": [
    "# 딥러닝 모델을 설계할 때 사용하는 장비 확인\n",
    "if torch.cuda.is_available():\n",
    "    DEVICE = torch.device('cuda')\n",
    "else:\n",
    "    DEVICE = torch.device(\"cpu\")\n",
    "\n",
    "print(\"Using PyTorch version:\", torch.__version__, ' Device:', DEVICE)"
   ]
  },
  {
   "cell_type": "code",
   "execution_count": 4,
   "metadata": {},
   "outputs": [],
   "source": [
    "BATCH_SIZE = 32\n",
    "EPOCHS = 10"
   ]
  },
  {
   "cell_type": "code",
   "execution_count": 8,
   "metadata": {},
   "outputs": [],
   "source": [
    "# MNIST 데이터 다운로드\n",
    "train_dataset = datasets.MNIST(root = \"../data/MNIST\",\n",
    "                              train = True,\n",
    "                              download = True,\n",
    "                              transform = transforms.ToTensor())\n",
    "test_dataset = datasets.MNIST(root = \"../data/MNIST\",\n",
    "                             train = False,\n",
    "                             transform = transforms.ToTensor())\n",
    "train_loader = torch.utils.data.DataLoader(dataset = train_dataset,\n",
    "                                          batch_size = BATCH_SIZE,\n",
    "                                          shuffle = True)\n",
    "test_loader = torch.utils.data.DataLoader(dataset = test_dataset,\n",
    "                                         batch_size = BATCH_SIZE,\n",
    "                                         shuffle = False)"
   ]
  },
  {
   "cell_type": "code",
   "execution_count": 12,
   "metadata": {},
   "outputs": [
    {
     "name": "stdout",
     "output_type": "stream",
     "text": [
      "X_train: torch.Size([32, 1, 28, 28]) type: torch.FloatTensor\n",
      "y_train torch.Size([32]) type: torch.LongTensor\n"
     ]
    }
   ],
   "source": [
    "# 데이터 확인\n",
    "for(x_train, y_train) in train_loader:\n",
    "    print(\"X_train:\", x_train.size(), 'type:', x_train.type())\n",
    "    print(\"y_train\", y_train.size(), 'type:', y_train.type())\n",
    "    break"
   ]
  },
  {
   "cell_type": "code",
   "execution_count": 17,
   "metadata": {},
   "outputs": [
    {
     "data": {
      "image/png": "[encoded data removed]",
      "text/plain": [
       "<Figure size 720x72 with 10 Axes>"
      ]
     },
     "metadata": {
      "needs_background": "light"
     },
     "output_type": "display_data"
    }
   ],
   "source": [
    "# 데이터 시각화\n",
    "pltsize = 1\n",
    "plt.figure(figsize = (10 * pltsize, pltsize))\n",
    "for i in range(10):\n",
    "    plt.subplot(1, 10, i+1)\n",
    "    plt.axis('off')\n",
    "    plt.imshow(x_train[i, :, :, :].numpy().reshape(28, 28), cmap = 'gray_r')\n",
    "    plt.title('Class: ' + str(y_train[i].item()))"
   ]
  },
  {
   "cell_type": "code",
   "execution_count": 18,
   "metadata": {},
   "outputs": [],
   "source": [
    "# MLP(Multi Layer Perceptron) 모델 설계\n",
    "class Net(nn.Module):\n",
    "    def __init__(self):\n",
    "        super(Net, self).__init__()\n",
    "        self.fc1 = nn.Linear(28 * 28, 512)\n",
    "        self.fc2 = nn.Linear(512, 256)\n",
    "        self.fc3 = nn.Linear(256, 10)\n",
    "        \n",
    "    def forward(self, x):\n",
    "        x = x.view(-1, 28 * 28)\n",
    "        x = self.fc1(x)\n",
    "        x = F.sigmoid(x)\n",
    "        x = self.fc2(x)\n",
    "        x = F.sigmoid(x)\n",
    "        x = self.fc3(x)\n",
    "        x = F.sigmoid(x)\n",
    "        x = F.log_softmax(x, dim = 1)\n",
    "        return x"
   ]
  },
  {
   "cell_type": "code",
   "execution_count": 19,
   "metadata": {},
   "outputs": [
    {
     "name": "stdout",
     "output_type": "stream",
     "text": [
      "Net(\n",
      "  (fc1): Linear(in_features=784, out_features=512, bias=True)\n",
      "  (fc2): Linear(in_features=512, out_features=256, bias=True)\n",
      "  (fc3): Linear(in_features=256, out_features=10, bias=True)\n",
      ")\n"
     ]
    }
   ],
   "source": [
    "# Optimizer, Objective Function\n",
    "model = Net().to(DEVICE)\n",
    "optimizer = torch.optim.SGD(model.parameters(), lr = 0.01, momentum = 0.5)\n",
    "criterion = nn.CrossEntropyLoss()\n",
    "\n",
    "print(model)"
   ]
  },
  {
   "cell_type": "code",
   "execution_count": 20,
   "metadata": {},
   "outputs": [],
   "source": [
    "# MLP 모델 학습을 진행하며 학습 데이터에 대한 모델 성능을 확인하는 함수\n",
    "def train(model, train_loader, optimizer, log_interval):\n",
    "    model.train()\n",
    "    for batch_idx, (image, label) in enumerate(train_loader):\n",
    "        image = image.to(DEVICE)\n",
    "        label = label.to(DEVICE)\n",
    "        optimizer.zero_grad()\n",
    "        output = model(image)\n",
    "        loss = criterion(output, label)\n",
    "        loss.backward()\n",
    "        optimizer.step()\n",
    "        \n",
    "        if batch_idx % log_interval == 0:\n",
    "            print(\"Train Epoch: {} [{}/{}({:.0f}%)]\\tTrain Loss: {:.6f}\".format(Epoch, batch_idx * len(image),\n",
    "                                                                               len(train_loader.dataset), 100. * batch_idx / len(train_loader),\n",
    "                                                                               loss.item()))"
   ]
  },
  {
   "cell_type": "code",
   "execution_count": 21,
   "metadata": {},
   "outputs": [],
   "source": [
    "# 학습되는 과정 속에서 검증 데이터에 대한 모델 성능을 확인하는 함수 정의\n",
    "def evaluate(model, test_loader):\n",
    "    model.eval()\n",
    "    test_loss = 0\n",
    "    correct = 0\n",
    "    \n",
    "    with torch.no_grad():\n",
    "        for image, label in test_loader:\n",
    "            image = image.to(DEVICE)\n",
    "            label = label.to(DEVICE)\n",
    "            output = model(image)\n",
    "            test_loss += criterion(output, label).item()\n",
    "            prediction = output.max(1, keepdim=True)[1]\n",
    "            correct += prediction.eq(label.view_as(prediction)).sum().item()\n",
    "            \n",
    "    test_loss /= len(test_loader.dataset)\n",
    "    test_accuracy = 100. * correct / len(test_loader.dataset)\n",
    "    return test_loss, test_accuracy"
   ]
  },
  {
   "cell_type": "code",
   "execution_count": 22,
   "metadata": {},
   "outputs": [
    {
     "name": "stderr",
     "output_type": "stream",
     "text": [
      "C:\\Users\\mo223\\anaconda3\\lib\\site-packages\\torch\\nn\\functional.py:1639: UserWarning: nn.functional.sigmoid is deprecated. Use torch.sigmoid instead.\n",
      "  warnings.warn(\"nn.functional.sigmoid is deprecated. Use torch.sigmoid instead.\")\n"
     ]
    },
    {
     "name": "stdout",
     "output_type": "stream",
     "text": [
      "Train Epoch: 1 [0/60000(0%)]\tTrain Loss: 2.306479\n",
      "Train Epoch: 1 [6400/60000(11%)]\tTrain Loss: 2.302764\n",
      "Train Epoch: 1 [12800/60000(21%)]\tTrain Loss: 2.319617\n",
      "Train Epoch: 1 [19200/60000(32%)]\tTrain Loss: 2.282537\n",
      "Train Epoch: 1 [25600/60000(43%)]\tTrain Loss: 2.299911\n",
      "Train Epoch: 1 [32000/60000(53%)]\tTrain Loss: 2.307529\n",
      "Train Epoch: 1 [38400/60000(64%)]\tTrain Loss: 2.295053\n",
      "Train Epoch: 1 [44800/60000(75%)]\tTrain Loss: 2.286202\n",
      "Train Epoch: 1 [51200/60000(85%)]\tTrain Loss: 2.310879\n",
      "Train Epoch: 1 [57600/60000(96%)]\tTrain Loss: 2.286543\n",
      "\n",
      "[EPOCH: 1], \tTest Loss: 0.0720, \tTest Accuracy: 11.35 %\n",
      "\n",
      "Train Epoch: 2 [0/60000(0%)]\tTrain Loss: 2.320183\n",
      "Train Epoch: 2 [6400/60000(11%)]\tTrain Loss: 2.311444\n",
      "Train Epoch: 2 [12800/60000(21%)]\tTrain Loss: 2.294751\n",
      "Train Epoch: 2 [19200/60000(32%)]\tTrain Loss: 2.300173\n",
      "Train Epoch: 2 [25600/60000(43%)]\tTrain Loss: 2.301201\n",
      "Train Epoch: 2 [32000/60000(53%)]\tTrain Loss: 2.309390\n",
      "Train Epoch: 2 [38400/60000(64%)]\tTrain Loss: 2.306101\n",
      "Train Epoch: 2 [44800/60000(75%)]\tTrain Loss: 2.282691\n",
      "Train Epoch: 2 [51200/60000(85%)]\tTrain Loss: 2.285417\n",
      "Train Epoch: 2 [57600/60000(96%)]\tTrain Loss: 2.304166\n",
      "\n",
      "[EPOCH: 2], \tTest Loss: 0.0719, \tTest Accuracy: 14.97 %\n",
      "\n",
      "Train Epoch: 3 [0/60000(0%)]\tTrain Loss: 2.300951\n",
      "Train Epoch: 3 [6400/60000(11%)]\tTrain Loss: 2.301362\n",
      "Train Epoch: 3 [12800/60000(21%)]\tTrain Loss: 2.285463\n",
      "Train Epoch: 3 [19200/60000(32%)]\tTrain Loss: 2.289869\n",
      "Train Epoch: 3 [25600/60000(43%)]\tTrain Loss: 2.263294\n",
      "Train Epoch: 3 [32000/60000(53%)]\tTrain Loss: 2.266252\n",
      "Train Epoch: 3 [38400/60000(64%)]\tTrain Loss: 2.292276\n",
      "Train Epoch: 3 [44800/60000(75%)]\tTrain Loss: 2.284584\n",
      "Train Epoch: 3 [51200/60000(85%)]\tTrain Loss: 2.299976\n",
      "Train Epoch: 3 [57600/60000(96%)]\tTrain Loss: 2.292455\n",
      "\n",
      "[EPOCH: 3], \tTest Loss: 0.0718, \tTest Accuracy: 11.35 %\n",
      "\n",
      "Train Epoch: 4 [0/60000(0%)]\tTrain Loss: 2.307384\n",
      "Train Epoch: 4 [6400/60000(11%)]\tTrain Loss: 2.292984\n",
      "Train Epoch: 4 [12800/60000(21%)]\tTrain Loss: 2.294760\n",
      "Train Epoch: 4 [19200/60000(32%)]\tTrain Loss: 2.283943\n",
      "Train Epoch: 4 [25600/60000(43%)]\tTrain Loss: 2.285419\n",
      "Train Epoch: 4 [32000/60000(53%)]\tTrain Loss: 2.273298\n",
      "Train Epoch: 4 [38400/60000(64%)]\tTrain Loss: 2.306098\n",
      "Train Epoch: 4 [44800/60000(75%)]\tTrain Loss: 2.274201\n",
      "Train Epoch: 4 [51200/60000(85%)]\tTrain Loss: 2.281138\n",
      "Train Epoch: 4 [57600/60000(96%)]\tTrain Loss: 2.294764\n",
      "\n",
      "[EPOCH: 4], \tTest Loss: 0.0714, \tTest Accuracy: 20.89 %\n",
      "\n",
      "Train Epoch: 5 [0/60000(0%)]\tTrain Loss: 2.299134\n",
      "Train Epoch: 5 [6400/60000(11%)]\tTrain Loss: 2.275336\n",
      "Train Epoch: 5 [12800/60000(21%)]\tTrain Loss: 2.288561\n",
      "Train Epoch: 5 [19200/60000(32%)]\tTrain Loss: 2.287929\n",
      "Train Epoch: 5 [25600/60000(43%)]\tTrain Loss: 2.289766\n",
      "Train Epoch: 5 [32000/60000(53%)]\tTrain Loss: 2.278294\n",
      "Train Epoch: 5 [38400/60000(64%)]\tTrain Loss: 2.278441\n",
      "Train Epoch: 5 [44800/60000(75%)]\tTrain Loss: 2.261736\n",
      "Train Epoch: 5 [51200/60000(85%)]\tTrain Loss: 2.248295\n",
      "Train Epoch: 5 [57600/60000(96%)]\tTrain Loss: 2.269639\n",
      "\n",
      "[EPOCH: 5], \tTest Loss: 0.0706, \tTest Accuracy: 29.76 %\n",
      "\n",
      "Train Epoch: 6 [0/60000(0%)]\tTrain Loss: 2.244768\n",
      "Train Epoch: 6 [6400/60000(11%)]\tTrain Loss: 2.252777\n",
      "Train Epoch: 6 [12800/60000(21%)]\tTrain Loss: 2.271342\n",
      "Train Epoch: 6 [19200/60000(32%)]\tTrain Loss: 2.247305\n",
      "Train Epoch: 6 [25600/60000(43%)]\tTrain Loss: 2.236366\n",
      "Train Epoch: 6 [32000/60000(53%)]\tTrain Loss: 2.228347\n",
      "Train Epoch: 6 [38400/60000(64%)]\tTrain Loss: 2.211396\n",
      "Train Epoch: 6 [44800/60000(75%)]\tTrain Loss: 2.183020\n",
      "Train Epoch: 6 [51200/60000(85%)]\tTrain Loss: 2.179272\n",
      "Train Epoch: 6 [57600/60000(96%)]\tTrain Loss: 2.198190\n",
      "\n",
      "[EPOCH: 6], \tTest Loss: 0.0682, \tTest Accuracy: 47.38 %\n",
      "\n",
      "Train Epoch: 7 [0/60000(0%)]\tTrain Loss: 2.181051\n",
      "Train Epoch: 7 [6400/60000(11%)]\tTrain Loss: 2.195562\n",
      "Train Epoch: 7 [12800/60000(21%)]\tTrain Loss: 2.166187\n",
      "Train Epoch: 7 [19200/60000(32%)]\tTrain Loss: 2.146000\n",
      "Train Epoch: 7 [25600/60000(43%)]\tTrain Loss: 2.168145\n",
      "Train Epoch: 7 [32000/60000(53%)]\tTrain Loss: 2.082907\n",
      "Train Epoch: 7 [38400/60000(64%)]\tTrain Loss: 2.090474\n",
      "Train Epoch: 7 [44800/60000(75%)]\tTrain Loss: 2.105331\n",
      "Train Epoch: 7 [51200/60000(85%)]\tTrain Loss: 2.147193\n",
      "Train Epoch: 7 [57600/60000(96%)]\tTrain Loss: 2.098975\n",
      "\n",
      "[EPOCH: 7], \tTest Loss: 0.0642, \tTest Accuracy: 57.78 %\n",
      "\n",
      "Train Epoch: 8 [0/60000(0%)]\tTrain Loss: 2.085358\n",
      "Train Epoch: 8 [6400/60000(11%)]\tTrain Loss: 2.063959\n",
      "Train Epoch: 8 [12800/60000(21%)]\tTrain Loss: 2.042530\n",
      "Train Epoch: 8 [19200/60000(32%)]\tTrain Loss: 1.973210\n",
      "Train Epoch: 8 [25600/60000(43%)]\tTrain Loss: 1.982250\n",
      "Train Epoch: 8 [32000/60000(53%)]\tTrain Loss: 2.021284\n",
      "Train Epoch: 8 [38400/60000(64%)]\tTrain Loss: 1.973280\n",
      "Train Epoch: 8 [44800/60000(75%)]\tTrain Loss: 1.966686\n",
      "Train Epoch: 8 [51200/60000(85%)]\tTrain Loss: 1.922146\n",
      "Train Epoch: 8 [57600/60000(96%)]\tTrain Loss: 1.941913\n",
      "\n",
      "[EPOCH: 8], \tTest Loss: 0.0605, \tTest Accuracy: 64.77 %\n",
      "\n",
      "Train Epoch: 9 [0/60000(0%)]\tTrain Loss: 1.951347\n",
      "Train Epoch: 9 [6400/60000(11%)]\tTrain Loss: 1.935369\n",
      "Train Epoch: 9 [12800/60000(21%)]\tTrain Loss: 1.941836\n",
      "Train Epoch: 9 [19200/60000(32%)]\tTrain Loss: 1.904871\n",
      "Train Epoch: 9 [25600/60000(43%)]\tTrain Loss: 1.945352\n",
      "Train Epoch: 9 [32000/60000(53%)]\tTrain Loss: 1.850323\n",
      "Train Epoch: 9 [38400/60000(64%)]\tTrain Loss: 1.850518\n",
      "Train Epoch: 9 [44800/60000(75%)]\tTrain Loss: 1.908849\n",
      "Train Epoch: 9 [51200/60000(85%)]\tTrain Loss: 1.874926\n",
      "Train Epoch: 9 [57600/60000(96%)]\tTrain Loss: 1.878996\n",
      "\n",
      "[EPOCH: 9], \tTest Loss: 0.0584, \tTest Accuracy: 64.45 %\n",
      "\n",
      "Train Epoch: 10 [0/60000(0%)]\tTrain Loss: 1.863706\n",
      "Train Epoch: 10 [6400/60000(11%)]\tTrain Loss: 1.833197\n",
      "Train Epoch: 10 [12800/60000(21%)]\tTrain Loss: 1.869784\n",
      "Train Epoch: 10 [19200/60000(32%)]\tTrain Loss: 1.898272\n",
      "Train Epoch: 10 [25600/60000(43%)]\tTrain Loss: 1.798038\n",
      "Train Epoch: 10 [32000/60000(53%)]\tTrain Loss: 1.798967\n",
      "Train Epoch: 10 [38400/60000(64%)]\tTrain Loss: 1.815389\n",
      "Train Epoch: 10 [44800/60000(75%)]\tTrain Loss: 1.786455\n",
      "Train Epoch: 10 [51200/60000(85%)]\tTrain Loss: 1.841221\n",
      "Train Epoch: 10 [57600/60000(96%)]\tTrain Loss: 1.851403\n",
      "\n",
      "[EPOCH: 10], \tTest Loss: 0.0572, \tTest Accuracy: 65.56 %\n",
      "\n"
     ]
    }
   ],
   "source": [
    "# MLP 학습시키며 Train, Test set의 Loss 및 Test set Accuracy를 확인\n",
    "for Epoch in range(1, EPOCHS+1):\n",
    "    train(model, train_loader, optimizer, log_interval = 200)\n",
    "    test_loss, test_accuracy = evaluate(model, test_loader)\n",
    "    print(\"\\n[EPOCH: {}], \\tTest Loss: {:.4f}, \\tTest Accuracy: {:.2f} %\\n\".format(Epoch, test_loss, test_accuracy))"
   ]
  }
 ],
 "metadata": {
  "kernelspec": {
   "display_name": "Python 3",
   "language": "python",
   "name": "python3"
  },
  "language_info": {
   "codemirror_mode": {
    "name": "ipython",
    "version": 3
   },
   "file_extension": ".py",
   "mimetype": "text/x-python",
   "name": "python",
   "nbconvert_exporter": "python",
   "pygments_lexer": "ipython3",
   "version": "3.8.3"
  }
 },
 "nbformat": 4,
 "nbformat_minor": 4
}
