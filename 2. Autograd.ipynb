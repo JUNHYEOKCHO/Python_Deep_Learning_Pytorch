{
 "cells": [
  {
   "cell_type": "code",
   "execution_count": 5,
   "metadata": {},
   "outputs": [],
   "source": [
    "import torch\n",
    "\n",
    "if torch.cuda.is_available():\n",
    "    DEVICE = torch.device('cuda')\n",
    "else:\n",
    "    DEVICE = torch.device(\"cpu\")"
   ]
  },
  {
   "cell_type": "code",
   "execution_count": 20,
   "metadata": {},
   "outputs": [],
   "source": [
    "BATCH_SIZE = 64\n",
    "INPUT_SIZE = 1000\n",
    "HIDDEN_SIZE = 100\n",
    "OUTPUT_SIZE = 10"
   ]
  },
  {
   "cell_type": "code",
   "execution_count": 21,
   "metadata": {},
   "outputs": [],
   "source": [
    "# (64, 1000) 모양의 데이터 생성\n",
    "x = torch.randn(BATCH_SIZE,\n",
    "                INPUT_SIZE,\n",
    "                device = DEVICE,\n",
    "                dtype = torch.float,\n",
    "                requires_grad = False)\n",
    "\n",
    "# (64, 10)의 output 데이터 생성\n",
    "y = torch.randn(BATCH_SIZE,\n",
    "                OUTPUT_SIZE,\n",
    "                device = DEVICE,\n",
    "                dtype = torch.float,\n",
    "                requires_grad = False)\n",
    "\n",
    "# x와 행렬곱이 가능하도록 1000행짜리 만들기\n",
    "w1 = torch.randn(INPUT_SIZE,\n",
    "                 HIDDEN_SIZE,\n",
    "                 device = DEVICE,\n",
    "                 dtype = torch.float,\n",
    "                 requires_grad = True)\n",
    "\n",
    "# x와 w1에 곱한값에다가 곱할 수 있게끔 해야함\n",
    "w2 = torch.randn(HIDDEN_SIZE,\n",
    "                 OUTPUT_SIZE,\n",
    "                 device = DEVICE,\n",
    "                 dtype = torch.float,\n",
    "                 requires_grad = True)"
   ]
  },
  {
   "cell_type": "code",
   "execution_count": 22,
   "metadata": {},
   "outputs": [
    {
     "name": "stdout",
     "output_type": "stream",
     "text": [
      "Iteration:  100 \t Loss:  603.7683715820312\n",
      "Iteration:  200 \t Loss:  2.3152854442596436\n",
      "Iteration:  300 \t Loss:  0.014742305502295494\n",
      "Iteration:  400 \t Loss:  0.00030787091236561537\n",
      "Iteration:  500 \t Loss:  4.808710218640044e-05\n"
     ]
    }
   ],
   "source": [
    "# 학습률 지정\n",
    "learning_rate = 1e-6\n",
    "\n",
    "# 500번 반복\n",
    "for t in range(1, 501):\n",
    "    # 예측값 산출\n",
    "    y_pred = x.mm(w1).clamp(min = 0).mm(w2)\n",
    "    \n",
    "    # 에러값 계산\n",
    "    loss = (y_pred - y).pow(2).sum()\n",
    "    \n",
    "    # 100번 마다 결괏값 계산\n",
    "    if t % 100 == 0:\n",
    "        print(\"Iteration: \", t, \"\\t\", \"Loss: \", loss.item())\n",
    "    \n",
    "    # 파라미터의 Gradient를 계산하고 Back Propagation 진행\n",
    "    loss.backward()\n",
    "    \n",
    "    # 해당 시점의 gradient를 고정한 상태에서 업데이트\n",
    "    with torch.no_grad():\n",
    "        w1 -= (learning_rate * w1.grad)\n",
    "        w2 -= (learning_rate * w2.grad)\n",
    "        \n",
    "        w1.grad.zero_()\n",
    "        w2.grad.zero_()"
   ]
  }
 ],
 "metadata": {
  "kernelspec": {
   "display_name": "Python 3",
   "language": "python",
   "name": "python3"
  },
  "language_info": {
   "codemirror_mode": {
    "name": "ipython",
    "version": 3
   },
   "file_extension": ".py",
   "mimetype": "text/x-python",
   "name": "python",
   "nbconvert_exporter": "python",
   "pygments_lexer": "ipython3",
   "version": "3.8.3"
  }
 },
 "nbformat": 4,
 "nbformat_minor": 4
}
